{
 "cells": [
  {
   "cell_type": "code",
   "execution_count": null,
   "id": "f8924fbd-fa31-4880-8105-15b2ee2b8a3a",
   "metadata": {},
   "outputs": [],
   "source": [
    "!pip install ultralytics\n",
    "!pip install roboflow\n",
    "!pip install python-dotenv"
   ]
  },
  {
   "cell_type": "markdown",
   "id": "76fce13c-b4a6-45f9-acaa-fb2a2af694c1",
   "metadata": {},
   "source": [
    "## Data set of Roboflow\n",
    "\n",
    "The data set used for this train is found in the following [link to Roboflow](https://universe.roboflow.com/fashion-g3m22/type-k4lkg)\n",
    "\n",
    "#### Dataset Split\n",
    "\n",
    "|  Train set  | Valid set  |  Test set  |\n",
    "|:-----------:|:----------:|:----------:|\n",
    "| 6037 images | 682 images | 742 images |\n",
    "|     81%     |     9%     |    10%     |\n",
    "\n",
    "#### Preprocessing\n",
    "\n",
    "- Auto-Orient: Applied\n",
    "- Resize: Stretch to 640x640\n",
    "\n",
    "#### Download structure\n",
    "\n",
    "Folder Structure\n",
    "\n",
    "#### Classes in this data set\n",
    "\n",
    "- dress\n",
    "- hat\n",
    "- longsleeve \n",
    "- outwear \n",
    "- pants\n",
    "- shirt\n",
    "- shoes\n",
    "- shorts\n",
    "- skirt\n",
    "- t-shirt"
   ]
  },
  {
   "cell_type": "code",
   "execution_count": null,
   "id": "4b019f58-2a34-4c87-bca0-ba264c880f2a",
   "metadata": {},
   "outputs": [],
   "source": [
    "from roboflow import Roboflow\n",
    "from dotenv import load_dotenv\n",
    "import os\n",
    "\n",
    "load_dotenv()\n",
    "\n",
    "api_key = os.environ.get('ROBOFLOW_API_KEY')\n",
    "\n",
    "rf = Roboflow(api_key=api_key)\n",
    "project = rf.workspace(\"fashion-g3m22\").project(\"type-k4lkg\")\n",
    "version = project.version(1)\n",
    "dataset = version.download(\"folder\")"
   ]
  },
  {
   "cell_type": "markdown",
   "id": "a938739c-141b-4a65-9869-42839450eb23",
   "metadata": {},
   "source": [
    "\n",
    "For this train I use the YOLOv8s-cls\n",
    "\n",
    "| Model                                                                                        | size (pixels) | acc top1 | acc top5 | Speed CPU ONNX (ms) | Speed A100 TensorRT (ms) | params (M) | FLOPs (B) at 640 |\n",
    "|:-------------------------------------------------------------------------------------------- |:-------------:|:--------:|:--------:|:-------------------:|:------------------------:|:----------:|:----------------:|\n",
    "| YOLOv8n-cls                                                                                  |      224      |   69.0   |   88.3   |        12.9         |           0.31           |    2.7     |       4.3        |\n",
    "| [YOLOv8s-cls](https://github.com/ultralytics/assets/releases/download/v8.2.0/yolov8s-cls.pt) |      224      |   73.8   |   91.7   |        23.4         |           0.35           |    6.4     |       13.5       |\n",
    "| YOLOv8m-cls                                                                                  |      224      |   76.8   |   93.5   |        85.4         |           0.62           |    17.0    |       42.7       |\n",
    "| YOLOv8l-cls                                                                                  |      224      |   76.8   |   93.5   |        163.0        |           0.87           |    37.5    |       99.7       |\n",
    "| YOLOv8x-cls                                                                                  |      224      |   79.0   |   94.6   |        232.0        |           1.01           |    57.4    |      154.8       |\n"
   ]
  },
  {
   "cell_type": "code",
   "execution_count": null,
   "id": "bf23c121-fbcc-4690-afe9-100698777c5e",
   "metadata": {},
   "outputs": [],
   "source": [
    "from ultralytics import YOLO"
   ]
  },
  {
   "cell_type": "code",
   "execution_count": null,
   "id": "b269fb76-62ef-474b-879a-04e313223dbb",
   "metadata": {},
   "outputs": [],
   "source": [
    "# Load a model\n",
    "model = YOLO('yolov8s-cls.pt')  # load a pretrained model (recommended for training)\n",
    "\n",
    "# Train the model\n",
    "results = model.train(data='type-1', epochs=55, imgsz=640)"
   ]
  },
  {
   "cell_type": "code",
   "execution_count": null,
   "id": "e1cd5cfb-036d-4b7a-bbf4-05e908f4e156",
   "metadata": {},
   "outputs": [],
   "source": [
    "# Load a new custom model\n",
    "model = YOLO('runs/classify/train/weights/best.pt')"
   ]
  },
  {
   "cell_type": "markdown",
   "id": "393e4393-87a5-46ae-b5c4-be2c3ab45388",
   "metadata": {},
   "source": [
    "##### Original image\n",
    "![original image](pants.png)"
   ]
  },
  {
   "cell_type": "code",
   "execution_count": null,
   "id": "eee886f5-a95b-49f9-9d7b-17f589e6c3e2",
   "metadata": {},
   "outputs": [
    {
     "name": "stdout",
     "output_type": "stream",
     "text": [
      "image 1/1 pants.png: 640x640 pants 0.93, shorts 0.04, shirt 0.01, longsleeve 0.01, skirt 0.01, 423.7ms\n",
      "Speed: 74.1ms preprocess, 423.7ms inference, 0.1ms postprocess per image at shape (1, 3, 640, 640)\n"
     ]
    }
   ],
   "source": [
    "results = model('pants.png', verbose=True)  # predict on an pants image"
   ]
  },
  {
   "cell_type": "code",
   "execution_count": null,
   "id": "1a76c5c1-d0f7-49f2-8ccf-293a795c28eb",
   "metadata": {},
   "outputs": [],
   "source": [
    "for r in results:\n",
    "    r.save(filename=\"results.png\")"
   ]
  },
  {
   "cell_type": "markdown",
   "id": "a8ecc068-da7a-4019-a3e1-4e9edc151caf",
   "metadata": {},
   "source": [
    "##### Image with predicts\n",
    "![image with predicts](results.png)"
   ]
  },
  {
   "cell_type": "markdown",
   "id": "1537a8b8-dc0b-4a89-9aea-c2f85b51f34b",
   "metadata": {},
   "source": [
    "# Colors processing\n",
    "\n",
    "## Recognize predominant color function\n",
    "\n",
    "This function `recognize_predominant_color` will open the PNG image, convert the pixels to RGBA, and then iterate over them, ignoring pixels that have an alpha (transparency) channel of 0. It will then count the frequency of each non-transparent color and return the predominant color."
   ]
  },
  {
   "cell_type": "code",
   "execution_count": null,
   "id": "c5085598-b424-4ede-92be-01ff2f5bd9b5",
   "metadata": {},
   "outputs": [
    {
     "name": "stdout",
     "output_type": "stream",
     "text": [
      "The color predominant is: (30, 45, 78)\n"
     ]
    }
   ],
   "source": [
    "from PIL import Image\n",
    "from collections import Counter\n",
    "\n",
    "\n",
    "def recognize_predominant_color(image_path):\n",
    "    img = Image.open(image_path)\n",
    "\n",
    "    # Convert the image to mode RGBA\n",
    "    img = img.convert(\"RGBA\")\n",
    "\n",
    "    # Get the pixels of teh image\n",
    "    pixels = img.getdata()\n",
    "\n",
    "    # Filter transparent pixels\n",
    "    pixels_without_transparency = [p[:3] for p in pixels if p[3] != 0]\n",
    "\n",
    "    # Count the frequency of each color\n",
    "    counter = Counter(pixels_without_transparency)\n",
    "\n",
    "    # Get the predominant color\n",
    "    color = counter.most_common(1)[0][0]\n",
    "\n",
    "    return color\n",
    "\n",
    "\n",
    "# Ruta de la imagen\n",
    "image = \"pants.png\"\n",
    "# Llamar a la función y obtener el color predominante\n",
    "color_predominant = recognize_predominant_color(image)\n",
    "print(\"The color predominant is:\", color_predominant)"
   ]
  },
  {
   "cell_type": "markdown",
   "id": "bd532924",
   "metadata": {},
   "source": [
    "**The color of the pants is also:**\n",
    "\n",
    "![pants color](media/pants_color.png)"
   ]
  },
  {
   "cell_type": "markdown",
   "id": "83e42893",
   "metadata": {},
   "source": [
    "## Matching Colors Function\n",
    "\n",
    "This function `matching_colors` takes a selected color and a list of colors as input, along with a tolerance value. It then returns a list of colors from the input list that match well with the selected color within the specified tolerance range.\n",
    "\n",
    "### Usage:\n",
    "\n",
    "- **`selected_color`**: The RGB color tuple that you want to find matches for.\n",
    "- **`color_list`**: A list of RGB color tuples.\n",
    "- **`tolerance`**: A numerical value representing the maximum allowable difference between the selected color and the colors in the list for them to be considered a match."
   ]
  },
  {
   "cell_type": "code",
   "execution_count": null,
   "id": "5a0d6c62",
   "metadata": {},
   "outputs": [],
   "source": [
    "def calculate_color_difference(color1, color2):\n",
    "    \"\"\"\n",
    "    Calculates the difference between two colors in RGB color space.\n",
    "    Returns the total difference.\n",
    "    \"\"\"\n",
    "    return sum(abs(component1 - component2) for component1, component2 in zip(color1, color2))\n",
    "\n",
    "\n",
    "def color_combines(color_base, color_to_compare, tolerance):\n",
    "    \"\"\"\n",
    "    Checks if a given color combines with another within a tolerance range.\n",
    "    \"\"\"\n",
    "    difference = calculate_color_difference(color_base, color_to_compare)\n",
    "    return difference <= tolerance\n",
    "\n",
    "\n",
    "def matching_colors(selected_color, color_list, tolerance):\n",
    "    \"\"\"\n",
    "    Returns a list of colors that match with the selected color within the given list,\n",
    "    with a given tolerance.\n",
    "    \"\"\"\n",
    "    matching_colors = []\n",
    "    for color in color_list:\n",
    "        if color_combines(selected_color, color, tolerance):\n",
    "            matching_colors.append(color)\n",
    "    return matching_colors\n",
    "\n",
    "\n",
    "# Suppose you have a list of colors\n",
    "color_list = [\n",
    "    (100, 50, 30),\n",
    "    (120, 70, 40),\n",
    "    (90, 40, 20),\n",
    "    (140, 80, 50),\n",
    "    # You can add more colors here\n",
    "]\n",
    "\n",
    "# Suppose you have selected a color from your list\n",
    "selected_color = (150, 100, 50)\n",
    "\n",
    "# Define a tolerance\n",
    "tolerance = 50  # You can adjust this value according to your needs\n",
    "\n",
    "# Get the colors that match with the selected color within the list\n",
    "matching_colors = matching_colors(selected_color, color_list, tolerance)\n",
    "\n",
    "# Print the matching colors\n",
    "print(\"Colors that match with the selected color:\")\n",
    "for color in matching_colors:\n",
    "    print(color)"
   ]
  }
 ],
 "metadata": {
  "kernelspec": {
   "display_name": "Python 3 (ipykernel)",
   "language": "python",
   "name": "python3"
  },
  "language_info": {
   "codemirror_mode": {
    "name": "ipython",
    "version": 3
   },
   "file_extension": ".py",
   "mimetype": "text/x-python",
   "name": "python",
   "nbconvert_exporter": "python",
   "pygments_lexer": "ipython3",
   "version": "3.9.6"
  }
 },
 "nbformat": 4,
 "nbformat_minor": 5
}
